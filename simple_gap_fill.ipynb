{
 "cells": [
  {
   "cell_type": "code",
   "execution_count": 12,
   "metadata": {},
   "outputs": [],
   "source": [
    "## Simple Gap Fill - to try it out enter some text and put an asterisk before the words you want removed.\n",
    "\n",
    "def gapfill():\n",
    "    x=input(\"Input text - put an asterisk (*) before any words you want removed: \")\n",
    "    text = x.split()\n",
    "    print([word[1:] for word in text if word[0]==\"*\"])\n",
    "    for idx,word in enumerate(text):\n",
    "        if word[0]=='*':\n",
    "            text[idx] = '_____________'\n",
    "    return \" \".join(text) "
   ]
  },
  {
   "cell_type": "code",
   "execution_count": 15,
   "metadata": {},
   "outputs": [
    {
     "name": "stdout",
     "output_type": "stream",
     "text": [
      "Input text - put an asterisk (*) before any words you want removed: countries *invaded the *Mongols the\n",
      "['invaded', 'Mongols']\n"
     ]
    },
    {
     "data": {
      "text/plain": [
       "'countries _____________ the _____________ the'"
      ]
     },
     "execution_count": 15,
     "metadata": {},
     "output_type": "execute_result"
    }
   ],
   "source": [
    "gapfill()"
   ]
  },
  {
   "cell_type": "code",
   "execution_count": null,
   "metadata": {},
   "outputs": [],
   "source": []
  }
 ],
 "metadata": {
  "kernelspec": {
   "display_name": "Python 3",
   "language": "python",
   "name": "python3"
  },
  "language_info": {
   "codemirror_mode": {
    "name": "ipython",
    "version": 3
   },
   "file_extension": ".py",
   "mimetype": "text/x-python",
   "name": "python",
   "nbconvert_exporter": "python",
   "pygments_lexer": "ipython3",
   "version": "3.7.6"
  }
 },
 "nbformat": 4,
 "nbformat_minor": 4
}
